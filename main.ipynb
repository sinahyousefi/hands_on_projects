{
 "cells": [
  {
   "cell_type": "code",
   "execution_count": 159,
   "id": "89fb63e7",
   "metadata": {},
   "outputs": [],
   "source": [
    "import pandas as pd\n",
    "import numpy as np"
   ]
  },
  {
   "cell_type": "code",
   "execution_count": 160,
   "id": "7e220d96",
   "metadata": {},
   "outputs": [
    {
     "name": "stdout",
     "output_type": "stream",
     "text": [
      "<class '_io.TextIOWrapper'>\n"
     ]
    }
   ],
   "source": [
    "file_path = \"C:\\Programming\\hands-on-projects\\day1-individual+household+electric+power+consumption\\household_power_consumption.txt\"\n",
    "with open(file_path,\"r\") as file:\n",
    "    print(type(file))\n",
    "    d = []\n",
    "    for line in file:\n",
    "        d_strip = line.strip()\n",
    "        d_split = d_strip.split(\";\")\n",
    "        d.append(d_split)\n",
    "df = pd.DataFrame(d[1:], columns=d[0])"
   ]
  },
  {
   "cell_type": "code",
   "execution_count": 161,
   "id": "2eaa7d12",
   "metadata": {},
   "outputs": [
    {
     "data": {
      "text/html": [
       "<div>\n",
       "<style scoped>\n",
       "    .dataframe tbody tr th:only-of-type {\n",
       "        vertical-align: middle;\n",
       "    }\n",
       "\n",
       "    .dataframe tbody tr th {\n",
       "        vertical-align: top;\n",
       "    }\n",
       "\n",
       "    .dataframe thead th {\n",
       "        text-align: right;\n",
       "    }\n",
       "</style>\n",
       "<table border=\"1\" class=\"dataframe\">\n",
       "  <thead>\n",
       "    <tr style=\"text-align: right;\">\n",
       "      <th></th>\n",
       "      <th>Date</th>\n",
       "      <th>Time</th>\n",
       "      <th>Global_active_power</th>\n",
       "      <th>Global_reactive_power</th>\n",
       "      <th>Voltage</th>\n",
       "      <th>Global_intensity</th>\n",
       "      <th>Sub_metering_1</th>\n",
       "      <th>Sub_metering_2</th>\n",
       "      <th>Sub_metering_3</th>\n",
       "    </tr>\n",
       "  </thead>\n",
       "  <tbody>\n",
       "    <tr>\n",
       "      <th>0</th>\n",
       "      <td>16/12/2006</td>\n",
       "      <td>17:24:00</td>\n",
       "      <td>4.216</td>\n",
       "      <td>0.418</td>\n",
       "      <td>234.840</td>\n",
       "      <td>18.400</td>\n",
       "      <td>0.000</td>\n",
       "      <td>1.000</td>\n",
       "      <td>17.000</td>\n",
       "    </tr>\n",
       "    <tr>\n",
       "      <th>1</th>\n",
       "      <td>16/12/2006</td>\n",
       "      <td>17:25:00</td>\n",
       "      <td>5.360</td>\n",
       "      <td>0.436</td>\n",
       "      <td>233.630</td>\n",
       "      <td>23.000</td>\n",
       "      <td>0.000</td>\n",
       "      <td>1.000</td>\n",
       "      <td>16.000</td>\n",
       "    </tr>\n",
       "    <tr>\n",
       "      <th>2</th>\n",
       "      <td>16/12/2006</td>\n",
       "      <td>17:26:00</td>\n",
       "      <td>5.374</td>\n",
       "      <td>0.498</td>\n",
       "      <td>233.290</td>\n",
       "      <td>23.000</td>\n",
       "      <td>0.000</td>\n",
       "      <td>2.000</td>\n",
       "      <td>17.000</td>\n",
       "    </tr>\n",
       "    <tr>\n",
       "      <th>3</th>\n",
       "      <td>16/12/2006</td>\n",
       "      <td>17:27:00</td>\n",
       "      <td>5.388</td>\n",
       "      <td>0.502</td>\n",
       "      <td>233.740</td>\n",
       "      <td>23.000</td>\n",
       "      <td>0.000</td>\n",
       "      <td>1.000</td>\n",
       "      <td>17.000</td>\n",
       "    </tr>\n",
       "    <tr>\n",
       "      <th>4</th>\n",
       "      <td>16/12/2006</td>\n",
       "      <td>17:28:00</td>\n",
       "      <td>3.666</td>\n",
       "      <td>0.528</td>\n",
       "      <td>235.680</td>\n",
       "      <td>15.800</td>\n",
       "      <td>0.000</td>\n",
       "      <td>1.000</td>\n",
       "      <td>17.000</td>\n",
       "    </tr>\n",
       "  </tbody>\n",
       "</table>\n",
       "</div>"
      ],
      "text/plain": [
       "         Date      Time Global_active_power Global_reactive_power  Voltage  \\\n",
       "0  16/12/2006  17:24:00               4.216                 0.418  234.840   \n",
       "1  16/12/2006  17:25:00               5.360                 0.436  233.630   \n",
       "2  16/12/2006  17:26:00               5.374                 0.498  233.290   \n",
       "3  16/12/2006  17:27:00               5.388                 0.502  233.740   \n",
       "4  16/12/2006  17:28:00               3.666                 0.528  235.680   \n",
       "\n",
       "  Global_intensity Sub_metering_1 Sub_metering_2 Sub_metering_3  \n",
       "0           18.400          0.000          1.000         17.000  \n",
       "1           23.000          0.000          1.000         16.000  \n",
       "2           23.000          0.000          2.000         17.000  \n",
       "3           23.000          0.000          1.000         17.000  \n",
       "4           15.800          0.000          1.000         17.000  "
      ]
     },
     "execution_count": 161,
     "metadata": {},
     "output_type": "execute_result"
    }
   ],
   "source": [
    "df.head()"
   ]
  },
  {
   "cell_type": "code",
   "execution_count": 162,
   "id": "21d6ff71",
   "metadata": {},
   "outputs": [
    {
     "data": {
      "text/html": [
       "<div>\n",
       "<style scoped>\n",
       "    .dataframe tbody tr th:only-of-type {\n",
       "        vertical-align: middle;\n",
       "    }\n",
       "\n",
       "    .dataframe tbody tr th {\n",
       "        vertical-align: top;\n",
       "    }\n",
       "\n",
       "    .dataframe thead th {\n",
       "        text-align: right;\n",
       "    }\n",
       "</style>\n",
       "<table border=\"1\" class=\"dataframe\">\n",
       "  <thead>\n",
       "    <tr style=\"text-align: right;\">\n",
       "      <th></th>\n",
       "      <th>Date</th>\n",
       "      <th>Time</th>\n",
       "      <th>Global_active_power</th>\n",
       "      <th>Global_reactive_power</th>\n",
       "      <th>Voltage</th>\n",
       "      <th>Global_intensity</th>\n",
       "      <th>Sub_metering_1</th>\n",
       "      <th>Sub_metering_2</th>\n",
       "      <th>Sub_metering_3</th>\n",
       "    </tr>\n",
       "  </thead>\n",
       "  <tbody>\n",
       "    <tr>\n",
       "      <th>count</th>\n",
       "      <td>2075259</td>\n",
       "      <td>2075259</td>\n",
       "      <td>2075259</td>\n",
       "      <td>2075259</td>\n",
       "      <td>2075259</td>\n",
       "      <td>2075259</td>\n",
       "      <td>2075259</td>\n",
       "      <td>2075259</td>\n",
       "      <td>2075259</td>\n",
       "    </tr>\n",
       "    <tr>\n",
       "      <th>unique</th>\n",
       "      <td>1442</td>\n",
       "      <td>1440</td>\n",
       "      <td>4187</td>\n",
       "      <td>533</td>\n",
       "      <td>2838</td>\n",
       "      <td>222</td>\n",
       "      <td>89</td>\n",
       "      <td>82</td>\n",
       "      <td>33</td>\n",
       "    </tr>\n",
       "    <tr>\n",
       "      <th>top</th>\n",
       "      <td>6/12/2008</td>\n",
       "      <td>17:24:00</td>\n",
       "      <td>?</td>\n",
       "      <td>0.000</td>\n",
       "      <td>?</td>\n",
       "      <td>1.000</td>\n",
       "      <td>0.000</td>\n",
       "      <td>0.000</td>\n",
       "      <td>0.000</td>\n",
       "    </tr>\n",
       "    <tr>\n",
       "      <th>freq</th>\n",
       "      <td>1440</td>\n",
       "      <td>1442</td>\n",
       "      <td>25979</td>\n",
       "      <td>481561</td>\n",
       "      <td>25979</td>\n",
       "      <td>172785</td>\n",
       "      <td>1880175</td>\n",
       "      <td>1436830</td>\n",
       "      <td>852092</td>\n",
       "    </tr>\n",
       "  </tbody>\n",
       "</table>\n",
       "</div>"
      ],
      "text/plain": [
       "             Date      Time Global_active_power Global_reactive_power  \\\n",
       "count     2075259   2075259             2075259               2075259   \n",
       "unique       1442      1440                4187                   533   \n",
       "top     6/12/2008  17:24:00                   ?                 0.000   \n",
       "freq         1440      1442               25979                481561   \n",
       "\n",
       "        Voltage Global_intensity Sub_metering_1 Sub_metering_2 Sub_metering_3  \n",
       "count   2075259          2075259        2075259        2075259        2075259  \n",
       "unique     2838              222             89             82             33  \n",
       "top           ?            1.000          0.000          0.000          0.000  \n",
       "freq      25979           172785        1880175        1436830         852092  "
      ]
     },
     "execution_count": 162,
     "metadata": {},
     "output_type": "execute_result"
    }
   ],
   "source": [
    "df.describe()"
   ]
  },
  {
   "cell_type": "code",
   "execution_count": 163,
   "id": "601b1977",
   "metadata": {},
   "outputs": [
    {
     "name": "stdout",
     "output_type": "stream",
     "text": [
      "<class 'pandas.core.frame.DataFrame'>\n",
      "RangeIndex: 2075259 entries, 0 to 2075258\n",
      "Data columns (total 9 columns):\n",
      " #   Column                 Dtype \n",
      "---  ------                 ----- \n",
      " 0   Date                   object\n",
      " 1   Time                   object\n",
      " 2   Global_active_power    object\n",
      " 3   Global_reactive_power  object\n",
      " 4   Voltage                object\n",
      " 5   Global_intensity       object\n",
      " 6   Sub_metering_1         object\n",
      " 7   Sub_metering_2         object\n",
      " 8   Sub_metering_3         object\n",
      "dtypes: object(9)\n",
      "memory usage: 142.5+ MB\n"
     ]
    }
   ],
   "source": [
    "df.info()"
   ]
  },
  {
   "cell_type": "code",
   "execution_count": 164,
   "id": "c72929dc",
   "metadata": {},
   "outputs": [
    {
     "data": {
      "text/plain": [
       "Date                     16/12/2006\n",
       "Time                       17:27:00\n",
       "Global_active_power           5.388\n",
       "Global_reactive_power         0.502\n",
       "Voltage                     233.740\n",
       "Global_intensity             23.000\n",
       "Sub_metering_1                0.000\n",
       "Sub_metering_2                1.000\n",
       "Sub_metering_3               17.000\n",
       "Name: 3, dtype: object"
      ]
     },
     "execution_count": 164,
     "metadata": {},
     "output_type": "execute_result"
    }
   ],
   "source": [
    "df.iloc[3]"
   ]
  },
  {
   "cell_type": "code",
   "execution_count": 165,
   "id": "276c5503",
   "metadata": {},
   "outputs": [
    {
     "data": {
      "text/plain": [
       "Date                     16/12/2006\n",
       "Time                       17:27:00\n",
       "Global_active_power           5.388\n",
       "Global_reactive_power         0.502\n",
       "Voltage                     233.740\n",
       "Global_intensity             23.000\n",
       "Sub_metering_1                0.000\n",
       "Sub_metering_2                1.000\n",
       "Sub_metering_3               17.000\n",
       "Name: 3, dtype: object"
      ]
     },
     "execution_count": 165,
     "metadata": {},
     "output_type": "execute_result"
    }
   ],
   "source": [
    "df.loc[3]"
   ]
  },
  {
   "cell_type": "code",
   "execution_count": null,
   "id": "1b745af9",
   "metadata": {},
   "outputs": [
    {
     "name": "stderr",
     "output_type": "stream",
     "text": [
      "C:\\Users\\sinah\\AppData\\Local\\Temp\\ipykernel_26512\\2701547936.py:6: UserWarning: Parsing dates in DD/MM/YYYY format when dayfirst=False (the default) was specified. This may lead to inconsistently parsed dates! Specify a format to ensure consistent parsing.\n",
      "  df[['Date','Time']] = df[['Date','Time']].apply(pd.to_datetime, errors='coerce')\n"
     ]
    },
    {
     "name": "stdout",
     "output_type": "stream",
     "text": [
      "Global_active_power      float64\n",
      "Global_reactive_power    float64\n",
      "Voltage                  float64\n",
      "Global_intensity         float64\n",
      "Sub_metering_1           float64\n",
      "Sub_metering_2           float64\n",
      "Sub_metering_3           float64\n",
      "dtype: object\n",
      "       Global_active_power  Global_reactive_power       Voltage  \\\n",
      "count         2.049280e+06           2.049280e+06  2.049280e+06   \n",
      "mean          1.091615e+00           1.237145e-01  2.408399e+02   \n",
      "std           1.057294e+00           1.127220e-01  3.239987e+00   \n",
      "min           7.600000e-02           0.000000e+00  2.232000e+02   \n",
      "25%           3.080000e-01           4.800000e-02  2.389900e+02   \n",
      "50%           6.020000e-01           1.000000e-01  2.410100e+02   \n",
      "75%           1.528000e+00           1.940000e-01  2.428900e+02   \n",
      "max           1.112200e+01           1.390000e+00  2.541500e+02   \n",
      "\n",
      "       Global_intensity  Sub_metering_1  Sub_metering_2  Sub_metering_3  \n",
      "count      2.049280e+06    2.049280e+06    2.049280e+06    2.049280e+06  \n",
      "mean       4.627759e+00    1.121923e+00    1.298520e+00    6.458447e+00  \n",
      "std        4.444396e+00    6.153031e+00    5.822026e+00    8.437154e+00  \n",
      "min        2.000000e-01    0.000000e+00    0.000000e+00    0.000000e+00  \n",
      "25%        1.400000e+00    0.000000e+00    0.000000e+00    0.000000e+00  \n",
      "50%        2.600000e+00    0.000000e+00    0.000000e+00    1.000000e+00  \n",
      "75%        6.400000e+00    0.000000e+00    1.000000e+00    1.700000e+01  \n",
      "max        4.840000e+01    8.800000e+01    8.000000e+01    3.100000e+01  \n"
     ]
    }
   ],
   "source": [
    "df.replace('?', np.nan, inplace=True)\n",
    "numeric_cols = [col for col in df.columns if col not in ['Date', 'Time']]\n",
    "df[['Date','Time']] = df[['Date','Time']].apply(pd.to_datetime, errors='coerce')\n",
    "df[numeric_cols] = df[numeric_cols].apply(pd.to_numeric, errors='coerce')"
   ]
  },
  {
   "cell_type": "code",
   "execution_count": 170,
   "id": "fc895020",
   "metadata": {},
   "outputs": [
    {
     "name": "stdout",
     "output_type": "stream",
     "text": [
      "<class 'pandas.core.frame.DataFrame'>\n",
      "RangeIndex: 2075259 entries, 0 to 2075258\n",
      "Data columns (total 9 columns):\n",
      " #   Column                 Dtype         \n",
      "---  ------                 -----         \n",
      " 0   Date                   datetime64[ns]\n",
      " 1   Time                   datetime64[ns]\n",
      " 2   Global_active_power    float64       \n",
      " 3   Global_reactive_power  float64       \n",
      " 4   Voltage                float64       \n",
      " 5   Global_intensity       float64       \n",
      " 6   Sub_metering_1         float64       \n",
      " 7   Sub_metering_2         float64       \n",
      " 8   Sub_metering_3         float64       \n",
      "dtypes: datetime64[ns](2), float64(7)\n",
      "memory usage: 142.5 MB\n"
     ]
    }
   ],
   "source": [
    "df.info()"
   ]
  },
  {
   "cell_type": "code",
   "execution_count": null,
   "id": "3cde2f99",
   "metadata": {},
   "outputs": [],
   "source": []
  }
 ],
 "metadata": {
  "kernelspec": {
   "display_name": "Python 3",
   "language": "python",
   "name": "python3"
  },
  "language_info": {
   "codemirror_mode": {
    "name": "ipython",
    "version": 3
   },
   "file_extension": ".py",
   "mimetype": "text/x-python",
   "name": "python",
   "nbconvert_exporter": "python",
   "pygments_lexer": "ipython3",
   "version": "3.11.2"
  }
 },
 "nbformat": 4,
 "nbformat_minor": 5
}
