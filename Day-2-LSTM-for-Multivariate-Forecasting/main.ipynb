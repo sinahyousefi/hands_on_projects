{
 "cells": [
  {
   "cell_type": "code",
   "execution_count": 2,
   "id": "89fb63e7",
   "metadata": {},
   "outputs": [],
   "source": [
    "import pandas as pd\n",
    "import numpy as np\n",
    "import matplotlib.pyplot as plt"
   ]
  },
  {
   "cell_type": "markdown",
   "id": "4c894ebc",
   "metadata": {},
   "source": [
    "# Load and Explore the Data"
   ]
  },
  {
   "cell_type": "code",
   "execution_count": 3,
   "id": "7e220d96",
   "metadata": {},
   "outputs": [],
   "source": [
    "file_path = \"C:\\Programming\\hands-on-projects\\day2-beijing+pm2+5+data\"\n"
   ]
  },
  {
   "cell_type": "code",
   "execution_count": null,
   "id": "279b9a64",
   "metadata": {},
   "outputs": [],
   "source": []
  }
 ],
 "metadata": {
  "kernelspec": {
   "display_name": "Python 3",
   "language": "python",
   "name": "python3"
  },
  "language_info": {
   "codemirror_mode": {
    "name": "ipython",
    "version": 3
   },
   "file_extension": ".py",
   "mimetype": "text/x-python",
   "name": "python",
   "nbconvert_exporter": "python",
   "pygments_lexer": "ipython3",
   "version": "3.11.2"
  }
 },
 "nbformat": 4,
 "nbformat_minor": 5
}
